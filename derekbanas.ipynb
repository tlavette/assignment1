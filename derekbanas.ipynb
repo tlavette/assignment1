{
  "nbformat": 4,
  "nbformat_minor": 0,
  "metadata": {
    "colab": {
      "provenance": [],
      "authorship_tag": "ABX9TyPEaZs7T+AufkXYcbNUmAz/",
      "include_colab_link": true
    },
    "kernelspec": {
      "name": "python3",
      "display_name": "Python 3"
    },
    "language_info": {
      "name": "python"
    }
  },
  "cells": [
    {
      "cell_type": "markdown",
      "metadata": {
        "id": "view-in-github",
        "colab_type": "text"
      },
      "source": [
        "<a href=\"https://colab.research.google.com/github/tlavette/assignment1/blob/main/derekbanas.ipynb\" target=\"_parent\"><img src=\"https://colab.research.google.com/assets/colab-badge.svg\" alt=\"Open In Colab\"/></a>"
      ]
    },
    {
      "cell_type": "markdown",
      "source": [
        "#Tonja Jean\n",
        "Assignments from python excercises"
      ],
      "metadata": {
        "id": "d6vif3DUUsv5"
      }
    },
    {
      "cell_type": "code",
      "source": [
        "print(\"hello world\")\n",
        "name = \"Tonja\"\n",
        "print(name)"
      ],
      "metadata": {
        "colab": {
          "base_uri": "https://localhost:8080/"
        },
        "id": "p0fg3rrZGmEI",
        "outputId": "563cd266-4f73-4a00-b4f5-4be04b183e20"
      },
      "execution_count": null,
      "outputs": [
        {
          "output_type": "stream",
          "name": "stdout",
          "text": [
            "hello world\n",
            "Tonja\n"
          ]
        }
      ]
    },
    {
      "cell_type": "code",
      "source": [
        "print(\"5 + 2 =\", 5+2)\n",
        "print(\"5 - 2 =\", 5-2)\n",
        "print(\"5 * 2 =\", 5*2)\n",
        "print(\"5 / 2 =\", 5/2)\n",
        "print(\"5 % 2 =\", 5%2)\n",
        "print(\"5 ** 2 =\", 5**2)\n",
        "print(\"5 // 3 =\", 5//2)\n",
        "\n",
        "\n",
        "print(\"1 + 2 - 3 *2 =\", 1+2-3*2)\n",
        "print(\"(1 + 2 -3)*2=\", (1 + 2 -3) *2)"
      ],
      "metadata": {
        "colab": {
          "base_uri": "https://localhost:8080/"
        },
        "id": "hgq9AcJCGyzO",
        "outputId": "ac63f031-e4fb-46ff-92c7-5d574d423562"
      },
      "execution_count": null,
      "outputs": [
        {
          "output_type": "stream",
          "name": "stdout",
          "text": [
            "5 + 2 = 7\n",
            "5 - 2 = 3\n",
            "5 * 2 = 10\n",
            "5 / 2 = 2.5\n",
            "5 % 2 = 1\n",
            "5 ** 2 = 25\n",
            "5 // 3 = 2\n",
            "1 + 2 - 3 *2 = -3\n",
            "(1 + 2 -3)*2= 0\n"
          ]
        }
      ]
    },
    {
      "cell_type": "code",
      "source": [
        "quote = \"\\\"Always remember you are unique\"\n",
        "print(quote)\n"
      ],
      "metadata": {
        "colab": {
          "base_uri": "https://localhost:8080/"
        },
        "id": "CBrts7ssG7a0",
        "outputId": "b24b3ecc-6274-43a4-b62d-bcff9b390a34"
      },
      "execution_count": null,
      "outputs": [
        {
          "output_type": "stream",
          "name": "stdout",
          "text": [
            "\"Always remember you are unique\n"
          ]
        }
      ]
    },
    {
      "cell_type": "code",
      "source": [
        "quote = \"\\\"Always remember you are unique\"\n",
        "multi_line_quote = ''' just like everyone else'''\n",
        "print(\"%s %s %s\" % ('I like the quote', quote, multi_line_quote))"
      ],
      "metadata": {
        "colab": {
          "base_uri": "https://localhost:8080/"
        },
        "id": "_sBOdsVTM1h2",
        "outputId": "37528f47-051b-4e38-b996-2f1a37d57a8f"
      },
      "execution_count": null,
      "outputs": [
        {
          "output_type": "stream",
          "name": "stdout",
          "text": [
            "I like the quote \"Always remember you are unique  just like everyone else\n"
          ]
        }
      ]
    },
    {
      "cell_type": "code",
      "source": [
        "grocery_list = ['Juice', 'Tomatoes', 'Potatoes', 'Bananas']\n",
        "print('First Item', grocery_list[0])"
      ],
      "metadata": {
        "colab": {
          "base_uri": "https://localhost:8080/"
        },
        "id": "krsex5GWN6QI",
        "outputId": "398a23f2-5ff8-4f45-c42a-23bfaa97b6ae"
      },
      "execution_count": null,
      "outputs": [
        {
          "output_type": "stream",
          "name": "stdout",
          "text": [
            "First Item Juice\n"
          ]
        }
      ]
    },
    {
      "cell_type": "code",
      "source": [
        "grocery_list[0] = \"Green Juice\"\n",
        "print('First Item', grocery_list[0])"
      ],
      "metadata": {
        "colab": {
          "base_uri": "https://localhost:8080/"
        },
        "id": "GJuPUOHwOQwJ",
        "outputId": "7db0ab83-5a53-498a-9b07-dde3c2c208ce"
      },
      "execution_count": null,
      "outputs": [
        {
          "output_type": "stream",
          "name": "stdout",
          "text": [
            "First Item Green Juice\n"
          ]
        }
      ]
    },
    {
      "cell_type": "code",
      "source": [
        "print(grocery_list[1:3])"
      ],
      "metadata": {
        "colab": {
          "base_uri": "https://localhost:8080/"
        },
        "id": "UnYp6RInObHj",
        "outputId": "ec5e8482-32b4-43f4-c1b6-a6cbcb154496"
      },
      "execution_count": null,
      "outputs": [
        {
          "output_type": "stream",
          "name": "stdout",
          "text": [
            "['Tomatoes', 'Potatoes']\n"
          ]
        }
      ]
    },
    {
      "cell_type": "code",
      "source": [
        "other_events = ['Wash Car', 'Pick up kids', 'Cash Check']\n",
        "to_do_list = [other_events, grocery_list]\n",
        "print(to_do_list)"
      ],
      "metadata": {
        "colab": {
          "base_uri": "https://localhost:8080/"
        },
        "id": "o0JLOP38Op0B",
        "outputId": "fd34ec9f-a009-4ab6-cab7-1c04ae41e0f0"
      },
      "execution_count": null,
      "outputs": [
        {
          "output_type": "stream",
          "name": "stdout",
          "text": [
            "[['Wash Car', 'Pick up kids', 'Cash Check'], ['Green Juice', 'Tomatoes', 'Potatoes', 'Bananas']]\n"
          ]
        }
      ]
    },
    {
      "cell_type": "code",
      "source": [
        "print((to_do_list[1][1]))"
      ],
      "metadata": {
        "colab": {
          "base_uri": "https://localhost:8080/"
        },
        "id": "4dQySFg-QYm1",
        "outputId": "8ffd7717-8fc1-4816-e6bc-ce5b360b8cfa"
      },
      "execution_count": null,
      "outputs": [
        {
          "output_type": "stream",
          "name": "stdout",
          "text": [
            "Tomatoes\n"
          ]
        }
      ]
    },
    {
      "cell_type": "code",
      "source": [
        "print((to_do_list[1][2]))"
      ],
      "metadata": {
        "colab": {
          "base_uri": "https://localhost:8080/"
        },
        "id": "D2Wd30rYQa_m",
        "outputId": "2025a781-57d0-406b-87d1-4fa35cbea842"
      },
      "execution_count": null,
      "outputs": [
        {
          "output_type": "stream",
          "name": "stdout",
          "text": [
            "Potatoes\n"
          ]
        }
      ]
    },
    {
      "cell_type": "code",
      "source": [
        "grocery_list.append('Onions')\n",
        "print(to_do_list)"
      ],
      "metadata": {
        "colab": {
          "base_uri": "https://localhost:8080/"
        },
        "id": "eMegLiRVQkCM",
        "outputId": "e259bc56-7059-44eb-b23e-b8a2180a6bbb"
      },
      "execution_count": null,
      "outputs": [
        {
          "output_type": "stream",
          "name": "stdout",
          "text": [
            "[['Wash Car', 'Pick up kids', 'Cash Check'], ['Green Juice', 'Tomatoes', 'Potatoes', 'Bananas', 'Onions', 'Onions']]\n"
          ]
        }
      ]
    },
    {
      "cell_type": "code",
      "source": [
        "grocery_list.insert(1,'Pickle')\n",
        "print(grocery_list)"
      ],
      "metadata": {
        "colab": {
          "base_uri": "https://localhost:8080/"
        },
        "id": "yOrKgeLbQrXw",
        "outputId": "7256a586-a52d-4a9a-b20a-fc847eb4f569"
      },
      "execution_count": null,
      "outputs": [
        {
          "output_type": "stream",
          "name": "stdout",
          "text": [
            "['Green Juice', 'Pickle', 'Pickle', 'Tomatoes', 'Potatoes', 'Bananas', 'Onions', 'Onions']\n"
          ]
        }
      ]
    },
    {
      "cell_type": "code",
      "source": [
        "grocery_list.sort()\n",
        "grocery_list.reverse()\n",
        "del grocery_list[4]\n",
        "print(to_do_list)"
      ],
      "metadata": {
        "colab": {
          "base_uri": "https://localhost:8080/"
        },
        "id": "wpEatFl3Q6AL",
        "outputId": "479551ae-9ad6-4f21-ace6-c063220cf42c"
      },
      "execution_count": null,
      "outputs": [
        {
          "output_type": "stream",
          "name": "stdout",
          "text": [
            "[['Wash Car', 'Pick up kids', 'Cash Check'], ['Tomatoes', 'Potatoes', 'Pickle', 'Pickle', 'Onions', 'Green Juice', 'Bananas']]\n"
          ]
        }
      ]
    },
    {
      "cell_type": "code",
      "source": [
        "pi_tuple = (3,1,4,1,5,9)\n",
        "new_tuple = list(pi_tuple)\n",
        "new_list = tuple(new_tuple)\n",
        "\n",
        "len(pi_tuple)"
      ],
      "metadata": {
        "colab": {
          "base_uri": "https://localhost:8080/"
        },
        "id": "oDfrAPG2RSGv",
        "outputId": "4b89c1b5-e451-4be4-cb93-a368473c6302"
      },
      "execution_count": null,
      "outputs": [
        {
          "output_type": "execute_result",
          "data": {
            "text/plain": [
              "6"
            ]
          },
          "metadata": {},
          "execution_count": 30
        }
      ]
    },
    {
      "cell_type": "code",
      "source": [
        "##Dictionary\n",
        "\n",
        "super_villians = {'Fiddler' : 'Isaac Bowin',\n",
        "\t\t\t\t\t'Captain cold' : 'Leonard Snart',\n",
        "\t\t\t\t\t'Weather Wizard' : 'Mark Mardon',\n",
        "\t\t\t\t\t'Mirror Master' : 'Sam Scudder',\n",
        "\t\t\t\t\t'Pied Piper' : 'Thomas Peterson'}\n",
        "print(super_villians ['Captain cold'])"
      ],
      "metadata": {
        "colab": {
          "base_uri": "https://localhost:8080/"
        },
        "id": "Ik4S0s_CRtPA",
        "outputId": "5698acb1-a401-429b-9e04-525c1acb50db"
      },
      "execution_count": null,
      "outputs": [
        {
          "output_type": "stream",
          "name": "stdout",
          "text": [
            "Leonard Snart\n"
          ]
        }
      ]
    },
    {
      "cell_type": "code",
      "source": [
        "print(super_villians ['Pied Piper'])"
      ],
      "metadata": {
        "colab": {
          "base_uri": "https://localhost:8080/"
        },
        "id": "dXxKv8tmSbMW",
        "outputId": "f2857179-c3b6-4688-c30c-3dd05eace873"
      },
      "execution_count": null,
      "outputs": [
        {
          "output_type": "stream",
          "name": "stdout",
          "text": [
            "Thomas Peterson\n"
          ]
        }
      ]
    },
    {
      "cell_type": "code",
      "source": [
        "super_villians['Pied Piper'] = 'Hartley Rathaway'\n",
        "print(super_villians ['Pied Piper'])"
      ],
      "metadata": {
        "colab": {
          "base_uri": "https://localhost:8080/"
        },
        "id": "f0sal2QESdWZ",
        "outputId": "d0bdc187-cce1-41ad-96b0-f84a19dd4871"
      },
      "execution_count": null,
      "outputs": [
        {
          "output_type": "stream",
          "name": "stdout",
          "text": [
            "Hartley Rathaway\n"
          ]
        }
      ]
    },
    {
      "cell_type": "code",
      "source": [
        "print(super_villians.keys())"
      ],
      "metadata": {
        "colab": {
          "base_uri": "https://localhost:8080/"
        },
        "id": "mqo4aT0WSpRa",
        "outputId": "282d98d4-fade-4230-d2d9-afd788d1168a"
      },
      "execution_count": null,
      "outputs": [
        {
          "output_type": "stream",
          "name": "stdout",
          "text": [
            "dict_keys(['Fiddler', 'Captain cold', 'Weather Wizard', 'Mirror Master', 'Pied Piper'])\n"
          ]
        }
      ]
    },
    {
      "cell_type": "code",
      "source": [
        "print(super_villians.values())"
      ],
      "metadata": {
        "colab": {
          "base_uri": "https://localhost:8080/"
        },
        "id": "vw0_eEeySx1S",
        "outputId": "387505a0-1128-4e22-9786-0862c81f08ce"
      },
      "execution_count": null,
      "outputs": [
        {
          "output_type": "stream",
          "name": "stdout",
          "text": [
            "dict_values(['Isaac Bowin', 'Leonard Snart', 'Mark Mardon', 'Sam Scudder', 'Hartley Rathaway'])\n"
          ]
        }
      ]
    },
    {
      "cell_type": "markdown",
      "source": [],
      "metadata": {
        "id": "LUHUbHKqUq9H"
      }
    },
    {
      "cell_type": "code",
      "execution_count": null,
      "metadata": {
        "colab": {
          "base_uri": "https://localhost:8080/"
        },
        "id": "l7Mv3aao-_C8",
        "outputId": "f9efc573-c1b8-42ee-a71c-a8c2af519bfe"
      },
      "outputs": [
        {
          "output_type": "stream",
          "name": "stdout",
          "text": [
            "5\n"
          ]
        }
      ],
      "source": [
        "import random\n",
        "import sys\n",
        "import os\n",
        "\n",
        "def addNumber(fNum, lNum):\n",
        "    sumNum = fNum + lNum\n",
        "    return sumNum\n",
        "\n",
        "print(addNumber(1, 4))"
      ]
    },
    {
      "cell_type": "code",
      "source": [
        "import random\n",
        "import sys\n",
        "import os\n",
        "\n",
        "for x in range(0, 10):\n",
        "        print(x, ' ', end=\"\")\n",
        "\n",
        "print('\\n')\n",
        "\n",
        "grocery_list = ['Juice', 'Tomatoes', 'Potatoes', 'Bananas']\n",
        "\n",
        "for y in grocery_list:\n",
        "        print(y)\n",
        "\n",
        "num_list = [[1,2,3],[10,20,30],[100,200,330]]\n",
        "\n",
        "for x in range(0,3):\n",
        "        for y in range(0,3):\n",
        "                print(num_list[x][y])\n"
      ],
      "metadata": {
        "colab": {
          "base_uri": "https://localhost:8080/"
        },
        "id": "byZQ0I9iAaN4",
        "outputId": "da8cd6f5-c882-4f9b-abec-9647702e2155"
      },
      "execution_count": null,
      "outputs": [
        {
          "output_type": "stream",
          "name": "stdout",
          "text": [
            "0  1  2  3  4  5  6  7  8  9  \n",
            "\n",
            "Juice\n",
            "Tomatoes\n",
            "Potatoes\n",
            "Bananas\n",
            "1\n",
            "2\n",
            "3\n",
            "10\n",
            "20\n",
            "30\n",
            "100\n",
            "200\n",
            "330\n"
          ]
        }
      ]
    },
    {
      "cell_type": "code",
      "source": [
        "age = 30\n",
        "\n",
        "if age >= 21 :\n",
        "\tprint('You are old enough to drive a tractor trailer')\n",
        "elif age >= 16:\n",
        "\tprint('You are old enouhg to drive a car')\n",
        "else :\n",
        "\tprint('You are not old enough to drive')\n",
        "\n",
        "if ((age >= 1) and (age <= 18)):\n",
        "\tprint('You get a birthday')\n",
        "elif (age == 21) or (age >= 65):\n",
        "\tprint('You get a birthday')\n",
        "elif (age == 30):\n",
        "\tprint('You do not get a birthday')\n",
        "else:\n",
        "\tprint('You get a birthday party yeah!')\n"
      ],
      "metadata": {
        "colab": {
          "base_uri": "https://localhost:8080/"
        },
        "id": "ZuY0mTm5Ax1t",
        "outputId": "5df2e0eb-7d67-4d3b-e214-60cdd94d48ab"
      },
      "execution_count": null,
      "outputs": [
        {
          "output_type": "stream",
          "name": "stdout",
          "text": [
            "You are old enough to drive a tractor trailer\n",
            "You do not get a birthday\n"
          ]
        }
      ]
    },
    {
      "cell_type": "code",
      "source": [
        "import random\n",
        "import sys\n",
        "import os\n",
        "\n",
        "long_string = \"I'll catch you if you fall - The Floor\"\n",
        "\n",
        "print(long_string[0:4])\n",
        "print(long_string[-5:])\n",
        "print(long_string[:-5])\n",
        "print(long_string[:4] + \" be there\")\n",
        "\n",
        "print(\"%c is my %s letter and my number %d number is %.5f\" % ('X', 'favorite', 1, .14))"
      ],
      "metadata": {
        "colab": {
          "base_uri": "https://localhost:8080/"
        },
        "id": "_2UdZKPBA5SD",
        "outputId": "1bb05ee5-95b5-4bfe-883e-09ba925f36a0"
      },
      "execution_count": null,
      "outputs": [
        {
          "output_type": "stream",
          "name": "stdout",
          "text": [
            "I'll\n",
            "Floor\n",
            "I'll catch you if you fall - The \n",
            "I'll be there\n",
            "X is my favorite letter and my number 1 number is 0.14000\n"
          ]
        }
      ]
    },
    {
      "cell_type": "code",
      "source": [
        "import random\n",
        "import sys\n",
        "import os\n",
        "\n",
        "print('What is your name? ')\n",
        "\n",
        "name = sys.stdin.readline()\n",
        "\n",
        "print('Hello', name)\n"
      ],
      "metadata": {
        "colab": {
          "base_uri": "https://localhost:8080/"
        },
        "id": "hQRlHcDaA94q",
        "outputId": "5737b26b-a559-412d-89e9-04487164826f"
      },
      "execution_count": null,
      "outputs": [
        {
          "output_type": "stream",
          "name": "stdout",
          "text": [
            "What is your name? \n",
            "Hello \n"
          ]
        }
      ]
    },
    {
      "cell_type": "code",
      "source": [
        "import random\n",
        "import sys\n",
        "import os\n",
        "\n",
        "random_num = random.randrange(0,100)\n",
        "\n",
        "while(random_num != 15):\n",
        "        print(random_num)\n",
        "        random_num = random.randrange(0,100)\n"
      ],
      "metadata": {
        "colab": {
          "base_uri": "https://localhost:8080/"
        },
        "id": "SoIF5Ar9FeIi",
        "outputId": "9693d175-1ea6-4204-bd34-cce0da680328"
      },
      "execution_count": null,
      "outputs": [
        {
          "output_type": "stream",
          "name": "stdout",
          "text": [
            "47\n",
            "42\n",
            "25\n",
            "52\n",
            "5\n",
            "66\n",
            "38\n",
            "39\n",
            "49\n",
            "59\n",
            "96\n",
            "47\n",
            "16\n",
            "85\n",
            "17\n",
            "97\n",
            "45\n",
            "67\n",
            "79\n",
            "40\n",
            "12\n",
            "34\n"
          ]
        }
      ]
    },
    {
      "cell_type": "code",
      "source": [
        "import random\n",
        "import sys\n",
        "import os\n",
        "\n",
        "\n",
        "\n",
        "i = 0\n",
        "\n",
        "while(i <= 20):\n",
        "    if(i%2 == 0):\n",
        "        print(i)\n",
        "    elif( i == 9):\n",
        "                break\n",
        "    else:\n",
        "                i += 1\n",
        "                continue\n",
        "    i += 1\n"
      ],
      "metadata": {
        "colab": {
          "base_uri": "https://localhost:8080/"
        },
        "id": "vdnvYcnLFxn9",
        "outputId": "6062c163-46ee-43e0-8058-9cd8d084820b"
      },
      "execution_count": null,
      "outputs": [
        {
          "output_type": "stream",
          "name": "stdout",
          "text": [
            "0\n",
            "2\n",
            "4\n",
            "6\n",
            "8\n"
          ]
        }
      ]
    }
  ]
}